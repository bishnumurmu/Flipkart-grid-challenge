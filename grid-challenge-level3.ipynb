{
 "cells": [
  {
   "cell_type": "code",
   "execution_count": 1,
   "metadata": {
    "_cell_guid": "b1076dfc-b9ad-4769-8c92-a6c4dae69d19",
    "_uuid": "8f2839f25d086af736a60e9eeb907d3b93b6e0e5"
   },
   "outputs": [
    {
     "name": "stdout",
     "output_type": "stream",
     "text": [
      "['flipgrid2', 'flipgrid']\n"
     ]
    }
   ],
   "source": [
    "# This Python 3 environment comes with many helpful analytics libraries installed\n",
    "# It is defined by the kaggle/python docker image: https://github.com/kaggle/docker-python\n",
    "# For example, here's several helpful packages to load in \n",
    "\n",
    "import numpy as np # linear algebra\n",
    "import pandas as pd # data processing, CSV file I/O (e.g. pd.read_csv)\n",
    "\n",
    "# Input data files are available in the \"../input/\" directory.\n",
    "# For example, running this (by clicking run or pressing Shift+Enter) will list the files in the input directory\n",
    "\n",
    "import os\n",
    "print(os.listdir(\"../input\"))\n",
    "\n",
    "# Any results you write to the current directory are saved as output."
   ]
  },
  {
   "cell_type": "code",
   "execution_count": 2,
   "metadata": {
    "_cell_guid": "79c7e3d0-c299-4dcb-8224-4455121ee9b0",
    "_uuid": "d629ff2d2480ee46fbb7e2d37f6b5fab8052498a"
   },
   "outputs": [
    {
     "name": "stdout",
     "output_type": "stream",
     "text": [
      "Populating the interactive namespace from numpy and matplotlib\n"
     ]
    }
   ],
   "source": [
    "% pylab inline\n",
    "import os\n",
    "import random\n",
    "\n",
    "import pandas as pd\n",
    "from scipy.misc import imread"
   ]
  },
  {
   "cell_type": "code",
   "execution_count": 3,
   "metadata": {
    "_uuid": "5d5910766ae158aa936b292174e3dafe3a7a7806"
   },
   "outputs": [
    {
     "name": "stderr",
     "output_type": "stream",
     "text": [
      "Using TensorFlow backend.\n"
     ]
    }
   ],
   "source": [
    "import numpy as np\n",
    "from keras import layers\n",
    "from keras.layers import Input, Dense, Activation, ZeroPadding2D, BatchNormalization, Flatten, Conv2D\n",
    "from keras.layers import AveragePooling2D, MaxPooling2D, Dropout, GlobalMaxPooling2D, GlobalAveragePooling2D\n",
    "from keras.models import Model\n",
    "from keras.preprocessing import image\n",
    "from keras.utils import layer_utils\n",
    "from keras.utils.data_utils import get_file\n",
    "from keras.applications.imagenet_utils import preprocess_input\n",
    "from keras.models import Sequential\n",
    "from keras.layers import Dense, Flatten, InputLayer"
   ]
  },
  {
   "cell_type": "code",
   "execution_count": 4,
   "metadata": {
    "_uuid": "7403e3b729dad26ad275f5f8a9fff8d170207b94"
   },
   "outputs": [],
   "source": [
    "seed = 128\n",
    "rng = np.random.RandomState(seed)"
   ]
  },
  {
   "cell_type": "code",
   "execution_count": 5,
   "metadata": {
    "_uuid": "86593e6df7f1af72313c6721c63563ca1b3da69b"
   },
   "outputs": [],
   "source": [
    "root_dir = os.path.abspath('../input')"
   ]
  },
  {
   "cell_type": "code",
   "execution_count": 6,
   "metadata": {
    "_uuid": "9985444090320bc903f27861c7c6a11520535d2c"
   },
   "outputs": [],
   "source": [
    "train = pd.read_csv(os.path.join(root_dir,'flipgrid2/training_set.csv'))\n",
    "test = pd.read_csv(os.path.join(root_dir, 'flipgrid2/test3.csv'))"
   ]
  },
  {
   "cell_type": "code",
   "execution_count": 7,
   "metadata": {
    "_uuid": "af3608577b18757f02771adfaef94c6469185e6e"
   },
   "outputs": [
    {
     "data": {
      "text/html": [
       "<div>\n",
       "<style scoped>\n",
       "    .dataframe tbody tr th:only-of-type {\n",
       "        vertical-align: middle;\n",
       "    }\n",
       "\n",
       "    .dataframe tbody tr th {\n",
       "        vertical-align: top;\n",
       "    }\n",
       "\n",
       "    .dataframe thead th {\n",
       "        text-align: right;\n",
       "    }\n",
       "</style>\n",
       "<table border=\"1\" class=\"dataframe\">\n",
       "  <thead>\n",
       "    <tr style=\"text-align: right;\">\n",
       "      <th></th>\n",
       "      <th>image_name</th>\n",
       "      <th>x1</th>\n",
       "      <th>x2</th>\n",
       "      <th>y1</th>\n",
       "      <th>y2</th>\n",
       "    </tr>\n",
       "  </thead>\n",
       "  <tbody>\n",
       "    <tr>\n",
       "      <th>0</th>\n",
       "      <td>JPEG_20160517_140621_1000651031832.png</td>\n",
       "      <td>78</td>\n",
       "      <td>446</td>\n",
       "      <td>83</td>\n",
       "      <td>422</td>\n",
       "    </tr>\n",
       "    <tr>\n",
       "      <th>1</th>\n",
       "      <td>1473231510890DeeplearnS11456.png</td>\n",
       "      <td>73</td>\n",
       "      <td>567</td>\n",
       "      <td>146</td>\n",
       "      <td>351</td>\n",
       "    </tr>\n",
       "    <tr>\n",
       "      <th>2</th>\n",
       "      <td>1476881557883Untitled1.png</td>\n",
       "      <td>13</td>\n",
       "      <td>561</td>\n",
       "      <td>124</td>\n",
       "      <td>362</td>\n",
       "    </tr>\n",
       "    <tr>\n",
       "      <th>3</th>\n",
       "      <td>1474264827890cobalt-beyond-the-sea-maxi-dress3...</td>\n",
       "      <td>0</td>\n",
       "      <td>640</td>\n",
       "      <td>140</td>\n",
       "      <td>330</td>\n",
       "    </tr>\n",
       "    <tr>\n",
       "      <th>4</th>\n",
       "      <td>JPEG_20160711_113321_1000235741992.png</td>\n",
       "      <td>217</td>\n",
       "      <td>442</td>\n",
       "      <td>65</td>\n",
       "      <td>465</td>\n",
       "    </tr>\n",
       "  </tbody>\n",
       "</table>\n",
       "</div>"
      ],
      "text/plain": [
       "                                          image_name   x1   x2   y1   y2\n",
       "0             JPEG_20160517_140621_1000651031832.png   78  446   83  422\n",
       "1                   1473231510890DeeplearnS11456.png   73  567  146  351\n",
       "2                         1476881557883Untitled1.png   13  561  124  362\n",
       "3  1474264827890cobalt-beyond-the-sea-maxi-dress3...    0  640  140  330\n",
       "4             JPEG_20160711_113321_1000235741992.png  217  442   65  465"
      ]
     },
     "execution_count": 7,
     "metadata": {},
     "output_type": "execute_result"
    }
   ],
   "source": [
    "train.head()"
   ]
  },
  {
   "cell_type": "code",
   "execution_count": 8,
   "metadata": {
    "_uuid": "96a1a178faef60ea40ab53887ed15c4e7af302e7"
   },
   "outputs": [
    {
     "name": "stdout",
     "output_type": "stream",
     "text": [
      "pos: 124 530 90 394\n"
     ]
    },
    {
     "name": "stderr",
     "output_type": "stream",
     "text": [
      "/opt/conda/lib/python3.6/site-packages/ipykernel_launcher.py:4: DeprecationWarning: `imread` is deprecated!\n",
      "`imread` is deprecated in SciPy 1.0.0, and will be removed in 1.2.0.\n",
      "Use ``imageio.imread`` instead.\n",
      "  after removing the cwd from sys.path.\n"
     ]
    },
    {
     "data": {
      "text/plain": [
       "<matplotlib.image.AxesImage at 0x7fd5d9f1fa90>"
      ]
     },
     "execution_count": 8,
     "metadata": {},
     "output_type": "execute_result"
    },
    {
     "data": {
      "image/png": "[encoded data removed]",
      "text/plain": [
       "<Figure size 432x288 with 1 Axes>"
      ]
     },
     "metadata": {},
     "output_type": "display_data"
    }
   ],
   "source": [
    "i = random.choice(train.index)\n",
    "\n",
    "img_name = train.image_name[i]\n",
    "img = imread(os.path.join(root_dir, 'flipgrid/flipkartgridstage2datasetimages/images', img_name))\n",
    "\n",
    "print('pos:', train.x1[i], train.x2[i], train.y1[i], train.y2[i])\n",
    "imshow(img)"
   ]
  },
  {
   "cell_type": "code",
   "execution_count": 9,
   "metadata": {
    "_uuid": "cf9115effd29943e6d9eb5e592800fcac89585fe"
   },
   "outputs": [
    {
     "name": "stderr",
     "output_type": "stream",
     "text": [
      "/opt/conda/lib/python3.6/site-packages/ipykernel_launcher.py:6: DeprecationWarning: `imread` is deprecated!\n",
      "`imread` is deprecated in SciPy 1.0.0, and will be removed in 1.2.0.\n",
      "Use ``imageio.imread`` instead.\n",
      "  \n",
      "/opt/conda/lib/python3.6/site-packages/ipykernel_launcher.py:7: DeprecationWarning: `imresize` is deprecated!\n",
      "`imresize` is deprecated in SciPy 1.0.0, and will be removed in 1.2.0.\n",
      "Use ``skimage.transform.resize`` instead.\n",
      "  import sys\n"
     ]
    }
   ],
   "source": [
    "from scipy.misc import imresize\n",
    "\n",
    "temp = []\n",
    "for img_name in train.image_name:\n",
    "    img_path = os.path.join(root_dir, 'flipgrid/flipkartgridstage2datasetimages/images', img_name)\n",
    "    img = imread(img_path)\n",
    "    img = imresize(img, (64, 64))\n",
    "    img = img.astype('float32') # this will help us in later stage\n",
    "    temp.append(img)\n",
    "\n",
    "train_x = np.stack(temp)"
   ]
  },
  {
   "cell_type": "code",
   "execution_count": 10,
   "metadata": {
    "_uuid": "cc5f030ecd11e14e701e5d9e50ad775e2db46e7d"
   },
   "outputs": [
    {
     "name": "stderr",
     "output_type": "stream",
     "text": [
      "/opt/conda/lib/python3.6/site-packages/ipykernel_launcher.py:4: DeprecationWarning: `imread` is deprecated!\n",
      "`imread` is deprecated in SciPy 1.0.0, and will be removed in 1.2.0.\n",
      "Use ``imageio.imread`` instead.\n",
      "  after removing the cwd from sys.path.\n",
      "/opt/conda/lib/python3.6/site-packages/ipykernel_launcher.py:5: DeprecationWarning: `imresize` is deprecated!\n",
      "`imresize` is deprecated in SciPy 1.0.0, and will be removed in 1.2.0.\n",
      "Use ``skimage.transform.resize`` instead.\n",
      "  \"\"\"\n"
     ]
    }
   ],
   "source": [
    "temp = []\n",
    "for img_name in test.image_name:\n",
    "    image_path = os.path.join(root_dir, 'flipgrid/flipkartgridstage2datasetimages/images', img_name)\n",
    "    img = imread(image_path)\n",
    "    img = imresize(img, (64, 64))\n",
    "    temp.append(img.astype('float32'))\n",
    "\n",
    "test_x = np.stack(temp)"
   ]
  },
  {
   "cell_type": "code",
   "execution_count": 11,
   "metadata": {
    "_uuid": "6a0e1aa401fc8c7ebc3de3a66b74c297e6e0b905"
   },
   "outputs": [],
   "source": [
    "train_x = train_x / 255.\n",
    "test_x = test_x / 255."
   ]
  },
  {
   "cell_type": "code",
   "execution_count": 12,
   "metadata": {
    "_uuid": "82731581d3442572c817b67f0c834086fa542213"
   },
   "outputs": [],
   "source": [
    "input_num_units = (64, 64, 3)\n",
    "hidden_num_units = 5"
   ]
  },
  {
   "cell_type": "code",
   "execution_count": 13,
   "metadata": {
    "_uuid": "43d3fee93241e3f763c76843a27bf93ddf85b54e"
   },
   "outputs": [],
   "source": [
    "epochs = 200\n",
    "batch_size = 20"
   ]
  },
  {
   "cell_type": "code",
   "execution_count": 14,
   "metadata": {
    "_uuid": "60e9c6c1695a3c681df244a3e057275883824145"
   },
   "outputs": [],
   "source": [
    "from keras.models import Sequential\n",
    "from keras.layers import Dense, Flatten, InputLayer"
   ]
  },
  {
   "cell_type": "code",
   "execution_count": 15,
   "metadata": {
    "_uuid": "c1414bd58f41e868a285d3c3b63667981be63af2"
   },
   "outputs": [],
   "source": [
    "from keras.layers import Input, Conv2D, MaxPooling2D\n",
    "from keras.layers import Dense, Flatten\n",
    "from keras.models import Model\n",
    "\n",
    "_input = Input((64,64,3)) \n",
    "\n",
    "conv1  = Conv2D(filters=64, kernel_size=(3,3), padding=\"same\", activation=\"relu\")(_input)\n",
    "conv2  = Conv2D(filters=64, kernel_size=(3,3), padding=\"same\", activation=\"relu\")(conv1)\n",
    "pool1  = MaxPooling2D((2, 2))(conv2)\n",
    "\n",
    "conv3  = Conv2D(filters=128, kernel_size=(3,3), padding=\"same\", activation=\"relu\")(pool1)\n",
    "conv4  = Conv2D(filters=128, kernel_size=(3,3), padding=\"same\", activation=\"relu\")(conv3)\n",
    "pool2  = MaxPooling2D((2, 2))(conv4)\n",
    "\n",
    "conv5  = Conv2D(filters=256, kernel_size=(3,3), padding=\"same\", activation=\"relu\")(pool2)\n",
    "conv6  = Conv2D(filters=256, kernel_size=(3,3), padding=\"same\", activation=\"relu\")(conv5)\n",
    "conv7  = Conv2D(filters=256, kernel_size=(3,3), padding=\"same\", activation=\"relu\")(conv6)\n",
    "pool3  = MaxPooling2D((2, 2))(conv7)\n",
    "conv8  = Conv2D(filters=512, kernel_size=(3,3), padding=\"same\", activation=\"relu\")(pool3)\n",
    "conv9  = Conv2D(filters=512, kernel_size=(3,3), padding=\"same\", activation=\"relu\")(conv8)\n",
    "conv10 = Conv2D(filters=512, kernel_size=(3,3), padding=\"same\", activation=\"relu\")(conv9)\n",
    "pool4  = MaxPooling2D((2, 2))(conv10)\n",
    "\n",
    "conv11 = Conv2D(filters=512, kernel_size=(3,3), padding=\"same\", activation=\"relu\")(pool4)\n",
    "conv12 = Conv2D(filters=512, kernel_size=(3,3), padding=\"same\", activation=\"relu\")(conv11)\n",
    "conv13 = Conv2D(filters=512, kernel_size=(3,3), padding=\"same\", activation=\"relu\")(conv12)\n",
    "pool5  = MaxPooling2D((2, 2))(conv13)\n",
    "\n",
    "flat   = Flatten()(pool5)\n",
    "dense1 = Dense(4096, activation=\"relu\")(flat)\n",
    "dense2 = Dense(4096, activation=\"relu\")(dense1)\n",
    "output = Dense(4, activation=\"linear\")(dense2)\n",
    "\n",
    "model  = Model(inputs=_input, outputs=output)\n",
    "model1 = model"
   ]
  },
  {
   "cell_type": "code",
   "execution_count": 16,
   "metadata": {
    "_uuid": "327a81d8d8e5aa8cea4e7b5b220b9c39a9ec42ec"
   },
   "outputs": [
    {
     "name": "stdout",
     "output_type": "stream",
     "text": [
      "_________________________________________________________________\n",
      "Layer (type)                 Output Shape              Param #   \n",
      "=================================================================\n",
      "input_1 (InputLayer)         (None, 64, 64, 3)         0         \n",
      "_________________________________________________________________\n",
      "conv2d_1 (Conv2D)            (None, 64, 64, 64)        1792      \n",
      "_________________________________________________________________\n",
      "conv2d_2 (Conv2D)            (None, 64, 64, 64)        36928     \n",
      "_________________________________________________________________\n",
      "max_pooling2d_1 (MaxPooling2 (None, 32, 32, 64)        0         \n",
      "_________________________________________________________________\n",
      "conv2d_3 (Conv2D)            (None, 32, 32, 128)       73856     \n",
      "_________________________________________________________________\n",
      "conv2d_4 (Conv2D)            (None, 32, 32, 128)       147584    \n",
      "_________________________________________________________________\n",
      "max_pooling2d_2 (MaxPooling2 (None, 16, 16, 128)       0         \n",
      "_________________________________________________________________\n",
      "conv2d_5 (Conv2D)            (None, 16, 16, 256)       295168    \n",
      "_________________________________________________________________\n",
      "conv2d_6 (Conv2D)            (None, 16, 16, 256)       590080    \n",
      "_________________________________________________________________\n",
      "conv2d_7 (Conv2D)            (None, 16, 16, 256)       590080    \n",
      "_________________________________________________________________\n",
      "max_pooling2d_3 (MaxPooling2 (None, 8, 8, 256)         0         \n",
      "_________________________________________________________________\n",
      "conv2d_8 (Conv2D)            (None, 8, 8, 512)         1180160   \n",
      "_________________________________________________________________\n",
      "conv2d_9 (Conv2D)            (None, 8, 8, 512)         2359808   \n",
      "_________________________________________________________________\n",
      "conv2d_10 (Conv2D)           (None, 8, 8, 512)         2359808   \n",
      "_________________________________________________________________\n",
      "max_pooling2d_4 (MaxPooling2 (None, 4, 4, 512)         0         \n",
      "_________________________________________________________________\n",
      "conv2d_11 (Conv2D)           (None, 4, 4, 512)         2359808   \n",
      "_________________________________________________________________\n",
      "conv2d_12 (Conv2D)           (None, 4, 4, 512)         2359808   \n",
      "_________________________________________________________________\n",
      "conv2d_13 (Conv2D)           (None, 4, 4, 512)         2359808   \n",
      "_________________________________________________________________\n",
      "max_pooling2d_5 (MaxPooling2 (None, 2, 2, 512)         0         \n",
      "_________________________________________________________________\n",
      "flatten_1 (Flatten)          (None, 2048)              0         \n",
      "_________________________________________________________________\n",
      "dense_1 (Dense)              (None, 4096)              8392704   \n",
      "_________________________________________________________________\n",
      "dense_2 (Dense)              (None, 4096)              16781312  \n",
      "_________________________________________________________________\n",
      "dense_3 (Dense)              (None, 4)                 16388     \n",
      "=================================================================\n",
      "Total params: 39,905,092\n",
      "Trainable params: 39,905,092\n",
      "Non-trainable params: 0\n",
      "_________________________________________________________________\n"
     ]
    }
   ],
   "source": [
    "model1.summary()"
   ]
  },
  {
   "cell_type": "code",
   "execution_count": 17,
   "metadata": {
    "_uuid": "2b134c682ad7d6b683764a2f050b47d91b6752db"
   },
   "outputs": [],
   "source": [
    "train['a'] = train['x2'] - train['x1']\n",
    "train['b'] = train['y2'] - train['y1']\n",
    "train['c'] = (train['x2'] + train['x1'])/2\n",
    "train['d'] = (train['y2'] + train['y1'])/2\n",
    "train_y = train[['c','d','a','b']]"
   ]
  },
  {
   "cell_type": "code",
   "execution_count": 18,
   "metadata": {
    "_uuid": "d14c6eae1a73a6992b26cdd4b19ebbae8c70c507"
   },
   "outputs": [],
   "source": [
    "from sklearn.model_selection import train_test_split\n",
    "X_train, X_test, y_train, y_test = train_test_split(train_x, train_y, test_size=0.1, random_state=42)"
   ]
  },
  {
   "cell_type": "code",
   "execution_count": 19,
   "metadata": {
    "_uuid": "976e520b8d3a060baafb47ed741cc91f83d84958"
   },
   "outputs": [],
   "source": [
    "model1.compile(loss='mae', optimizer='adam', metrics=['mse','mae',])"
   ]
  },
  {
   "cell_type": "code",
   "execution_count": 20,
   "metadata": {
    "_uuid": "9f449ff605f6fc035f8a2e1292ef0b58f70282df"
   },
   "outputs": [],
   "source": [
    "from keras.callbacks import EarlyStopping"
   ]
  },
  {
   "cell_type": "code",
   "execution_count": 21,
   "metadata": {
    "_uuid": "8cf1ca453da72388a4af9552d9e63f9ec7efb5b1"
   },
   "outputs": [
    {
     "name": "stdout",
     "output_type": "stream",
     "text": [
      "Train on 19440 samples, validate on 2160 samples\n",
      "Epoch 1/200\n",
      "19440/19440 [==============================] - 143s 7ms/step - loss: 70.3214 - mean_squared_error: 11745.6205 - mean_absolute_error: 70.3214 - val_loss: 59.4230 - val_mean_squared_error: 7417.9199 - val_mean_absolute_error: 59.4230\n",
      "Epoch 2/200\n",
      "19440/19440 [==============================] - 137s 7ms/step - loss: 59.3234 - mean_squared_error: 7719.3184 - mean_absolute_error: 59.3234 - val_loss: 56.4458 - val_mean_squared_error: 6699.0457 - val_mean_absolute_error: 56.4458\n",
      "Epoch 3/200\n",
      "19440/19440 [==============================] - 137s 7ms/step - loss: 37.9799 - mean_squared_error: 3669.8366 - mean_absolute_error: 37.9799 - val_loss: 27.4668 - val_mean_squared_error: 2054.4372 - val_mean_absolute_error: 27.4668\n",
      "Epoch 4/200\n",
      "19440/19440 [==============================] - 137s 7ms/step - loss: 25.9512 - mean_squared_error: 2097.6327 - mean_absolute_error: 25.9512 - val_loss: 26.0127 - val_mean_squared_error: 1910.4117 - val_mean_absolute_error: 26.0127\n",
      "Epoch 5/200\n",
      "19440/19440 [==============================] - 137s 7ms/step - loss: 23.5782 - mean_squared_error: 1868.9963 - mean_absolute_error: 23.5782 - val_loss: 22.8752 - val_mean_squared_error: 1629.5574 - val_mean_absolute_error: 22.8752\n",
      "Epoch 6/200\n",
      "19440/19440 [==============================] - 137s 7ms/step - loss: 20.8526 - mean_squared_error: 1689.2996 - mean_absolute_error: 20.8526 - val_loss: 19.1817 - val_mean_squared_error: 1344.4607 - val_mean_absolute_error: 19.1817\n",
      "Epoch 7/200\n",
      "19440/19440 [==============================] - 137s 7ms/step - loss: 18.8260 - mean_squared_error: 1531.0306 - mean_absolute_error: 18.8260 - val_loss: 20.1468 - val_mean_squared_error: 1407.2253 - val_mean_absolute_error: 20.1468\n",
      "Epoch 8/200\n",
      "19440/19440 [==============================] - 137s 7ms/step - loss: 18.5413 - mean_squared_error: 1488.1276 - mean_absolute_error: 18.5413 - val_loss: 18.5515 - val_mean_squared_error: 1384.9718 - val_mean_absolute_error: 18.5515\n",
      "Epoch 9/200\n",
      "19440/19440 [==============================] - 137s 7ms/step - loss: 17.4468 - mean_squared_error: 1389.3605 - mean_absolute_error: 17.4468 - val_loss: 17.5454 - val_mean_squared_error: 1304.4760 - val_mean_absolute_error: 17.5454\n",
      "Epoch 10/200\n",
      " 3500/19440 [====>.........................] - ETA: 1:49 - loss: 15.8424 - mean_squared_error: 874.0251 - mean_absolute_error: 15.8424"
     ]
    }
   ],
   "source": [
    "history1 = model1.fit(X_train, y_train, epochs=epochs, batch_size=batch_size,  verbose=1,validation_split=0.1,callbacks = [EarlyStopping(monitor='val_mean_absolute_error', patience=160)])"
   ]
  },
  {
   "cell_type": "code",
   "execution_count": 22,
   "metadata": {
    "_uuid": "aed9936992d1a91d3402af063459d7cefe0da3b1"
   },
   "outputs": [],
   "source": [
    "predi = model1.predict(X_test)"
   ]
  },
  {
   "cell_type": "code",
   "execution_count": 23,
   "metadata": {
    "_uuid": "22ad5a34f3e2a973221a59a8884091243af4310c"
   },
   "outputs": [],
   "source": [
    "x1  = predi[:,0] - (predi[:,2]/2)\n",
    "x2 = predi[:,0] + (predi[:,2]/2)\n",
    "y1 = predi[:,1] - (predi[:,3]/2)\n",
    "y2 = predi[:,1] + (predi[:,3]/2)"
   ]
  },
  {
   "cell_type": "code",
   "execution_count": 24,
   "metadata": {
    "_uuid": "886aae154df9dd9cc84da5fe65c7f870c07324d6"
   },
   "outputs": [],
   "source": [
    "def iou(box1, box2):\n",
    "    \"\"\"Implement the intersection over union (IoU) between box1 and box2\n",
    "    \n",
    "    Arguments:\n",
    "    box1 -- first box, list object with coordinates (x1, y1, x2, y2)\n",
    "    box2 -- second box, list object with coordinates (x1, y1, x2, y2)\n",
    "    \"\"\"\n",
    "    x11, y11, x12, y12 = box1\n",
    "    x21, y21, x22, y22 = box2\n",
    "    # Calculate the (y1, x1, y2, x2) coordinates of the intersection of box1 and box2. Calculate its Area.\n",
    "    ### START CODE HERE ### (≈ 5 lines)\n",
    "    xi1 = max(x11,x21)\n",
    "    yi1 = max(y11,y21)\n",
    "    xi2 = min(x12,x22)\n",
    "    yi2 = min(y12,y22)\n",
    "    inter_area = max(yi2-yi1,0) * max(xi2-xi1,0)\n",
    "    ### END CODE HERE ###    \n",
    "\n",
    "    # Calculate the Union area by using Formula: Union(A,B) = A + B - Inter(A,B)\n",
    "    ### START CODE HERE ### (≈ 3 lines)\n",
    "    box1_area = (y12-y11)*(x12-x11)\n",
    "    box2_area = (y22-y21)*(x22-x21)\n",
    "    union_area = box1_area + box2_area - inter_area\n",
    "    ### END CODE HERE ###\n",
    "    \n",
    "    # compute the IoU\n",
    "    ### START CODE HERE ### (≈ 1 line)\n",
    "    iou = inter_area/union_area\n",
    "    ### END CODE HERE ###\n",
    "    \n",
    "    return iou"
   ]
  },
  {
   "cell_type": "code",
   "execution_count": 25,
   "metadata": {
    "_uuid": "c28daddbc95c5da81765415282b32778a5b7f158"
   },
   "outputs": [],
   "source": [
    "ytest = y_test[['c','d','a','b']].values"
   ]
  },
  {
   "cell_type": "code",
   "execution_count": 26,
   "metadata": {
    "_uuid": "0498248d8f1c9bcd0363a53df455dc83ab3bc575"
   },
   "outputs": [],
   "source": [
    "x11  = ytest[:,0] - (ytest[:,2]/2)\n",
    "x12 = ytest[:,0] + (ytest[:,2]/2)\n",
    "y11 = ytest[:,1] - (ytest[:,3]/2)\n",
    "y12 = ytest[:,1] + (ytest[:,3]/2)"
   ]
  },
  {
   "cell_type": "code",
   "execution_count": 27,
   "metadata": {
    "_uuid": "35bfcde909628923ec0abfd268813cf0adcefa2e"
   },
   "outputs": [
    {
     "data": {
      "text/plain": [
       "107.0"
      ]
     },
     "execution_count": 27,
     "metadata": {},
     "output_type": "execute_result"
    }
   ],
   "source": [
    "x11[1]"
   ]
  },
  {
   "cell_type": "code",
   "execution_count": 28,
   "metadata": {
    "_uuid": "702bc466cd4fbbf34b20c1b2109b02c6509c9a43"
   },
   "outputs": [
    {
     "name": "stdout",
     "output_type": "stream",
     "text": [
      "iou = 0.9320455773852063\n"
     ]
    }
   ],
   "source": [
    "box1 = (x11[23], y11[23], x12[23], y12[23])\n",
    "box2 = (x1[23], y1[23], x2[23], y2[23])\n",
    "print(\"iou = \" + str(iou(box1, box2)))"
   ]
  },
  {
   "cell_type": "code",
   "execution_count": 29,
   "metadata": {
    "_uuid": "96c7cd5467a5870dde949bc1eba80b26dba143ac"
   },
   "outputs": [],
   "source": [
    "summ = 0\n",
    "for i in range(len(x1)):\n",
    "    box1 = (x11[i], y11[i], x12[i], y12[i])\n",
    "    box2 = (x1[i], y1[i], x2[i], y2[i])\n",
    "    summ = summ + iou(box1, box2)"
   ]
  },
  {
   "cell_type": "code",
   "execution_count": 30,
   "metadata": {
    "_uuid": "a85f2ceacc9ea973c0080919188f5e8b954ab6c2"
   },
   "outputs": [
    {
     "data": {
      "text/plain": [
       "0.8743454183021003"
      ]
     },
     "execution_count": 30,
     "metadata": {},
     "output_type": "execute_result"
    }
   ],
   "source": [
    "summ = summ/len(x1)\n",
    "summ"
   ]
  },
  {
   "cell_type": "code",
   "execution_count": 31,
   "metadata": {
    "_uuid": "af007f4f9c5f09144de47aff7786712883cf6636"
   },
   "outputs": [
    {
     "data": {
      "text/plain": [
       "'print(history.history.keys())\\n# \"Loss\"\\nplt.plot(history.history[\\'loss\\'])\\nplt.plot(history.history[\\'val_loss\\'])\\nplt.title(\\'model loss\\')\\nplt.ylabel(\\'loss\\')\\nplt.xlabel(\\'epoch\\')\\nplt.legend([\\'train\\', \\'validation\\'], loc=\\'upper left\\')\\nplt.show()'"
      ]
     },
     "execution_count": 31,
     "metadata": {},
     "output_type": "execute_result"
    }
   ],
   "source": [
    "'''print(history.history.keys())\n",
    "# \"Loss\"\n",
    "plt.plot(history.history['loss'])\n",
    "plt.plot(history.history['val_loss'])\n",
    "plt.title('model loss')\n",
    "plt.ylabel('loss')\n",
    "plt.xlabel('epoch')\n",
    "plt.legend(['train', 'validation'], loc='upper left')\n",
    "plt.show()'''"
   ]
  },
  {
   "cell_type": "code",
   "execution_count": 32,
   "metadata": {
    "_uuid": "220d9ad952e083bccb4e263caf99642d0c0db2f3"
   },
   "outputs": [
    {
     "data": {
      "text/plain": [
       "'history2 = model2.fit(train_x, train_y2, epochs=epochs, batch_size=batch_size,  verbose=1, validation_split=0.2)'"
      ]
     },
     "execution_count": 32,
     "metadata": {},
     "output_type": "execute_result"
    }
   ],
   "source": [
    "'''history2 = model2.fit(train_x, train_y2, epochs=epochs, batch_size=batch_size,  verbose=1, validation_split=0.2)'''"
   ]
  },
  {
   "cell_type": "code",
   "execution_count": 33,
   "metadata": {
    "_uuid": "3bda37ed4ad372c8ecf034a6fc2af7ae4263a466"
   },
   "outputs": [
    {
     "data": {
      "text/plain": [
       "'history3 = model3.fit(train_x, train_y3, epochs=epochs, batch_size=batch_size,  verbose=1, validation_split=0.2)'"
      ]
     },
     "execution_count": 33,
     "metadata": {},
     "output_type": "execute_result"
    }
   ],
   "source": [
    "'''history3 = model3.fit(train_x, train_y3, epochs=epochs, batch_size=batch_size,  verbose=1, validation_split=0.2)'''"
   ]
  },
  {
   "cell_type": "code",
   "execution_count": 34,
   "metadata": {
    "_uuid": "2ea27e74f9885b9c0424b1bb83d65d95c219b031"
   },
   "outputs": [
    {
     "data": {
      "text/plain": [
       "'history4 = model4.fit(train_x, train_y4, epochs=epochs, batch_size=batch_size,  verbose=1, validation_split=0.2)'"
      ]
     },
     "execution_count": 34,
     "metadata": {},
     "output_type": "execute_result"
    }
   ],
   "source": [
    "'''history4 = model4.fit(train_x, train_y4, epochs=epochs, batch_size=batch_size,  verbose=1, validation_split=0.2)'''"
   ]
  },
  {
   "cell_type": "code",
   "execution_count": 35,
   "metadata": {
    "_uuid": "0a98b9596d01834a21d07e24a92158c47db7b176"
   },
   "outputs": [
    {
     "data": {
      "text/plain": [
       "'pred1 = model1.predict(test_x)\\npred2 = model2.predict(test_x)\\npred3 = model3.predict(test_x)\\npred4 = model4.predict(test_x)'"
      ]
     },
     "execution_count": 35,
     "metadata": {},
     "output_type": "execute_result"
    }
   ],
   "source": [
    "'''pred1 = model1.predict(test_x)\n",
    "pred2 = model2.predict(test_x)\n",
    "pred3 = model3.predict(test_x)\n",
    "pred4 = model4.predict(test_x)'''"
   ]
  },
  {
   "cell_type": "code",
   "execution_count": 36,
   "metadata": {
    "_uuid": "e03b11f8300e80fb63a0227c63eda4ea97526921"
   },
   "outputs": [],
   "source": [
    "pred1 = model1.predict(test_x)"
   ]
  },
  {
   "cell_type": "code",
   "execution_count": 37,
   "metadata": {
    "_uuid": "cbc2924bfd657fa76c239ff58406433b04bfd69f"
   },
   "outputs": [
    {
     "data": {
      "text/plain": [
       "37.947445"
      ]
     },
     "execution_count": 37,
     "metadata": {},
     "output_type": "execute_result"
    }
   ],
   "source": [
    "min(pred1[:,3])"
   ]
  },
  {
   "cell_type": "code",
   "execution_count": 38,
   "metadata": {
    "_uuid": "777a37faff80950a8463122dda01fdb4e81ddcbb"
   },
   "outputs": [
    {
     "data": {
      "text/plain": [
       "array([[313.46005, 253.79219, 475.49847, 333.64175],\n",
       "       [312.1967 , 277.23227, 200.0057 , 300.45587],\n",
       "       [309.64902, 231.91176, 222.15378, 256.20013],\n",
       "       ...,\n",
       "       [340.90396, 248.85295, 452.09515, 298.55237],\n",
       "       [272.13568, 238.96123, 475.20972, 294.94034],\n",
       "       [252.50755, 214.11009, 266.39108, 298.96606]], dtype=float32)"
      ]
     },
     "execution_count": 38,
     "metadata": {},
     "output_type": "execute_result"
    }
   ],
   "source": [
    "pred1"
   ]
  },
  {
   "cell_type": "code",
   "execution_count": 39,
   "metadata": {
    "_uuid": "46d810b890b826c92170c5d48f4759b2e9cfbe6f"
   },
   "outputs": [],
   "source": [
    "x1  = pred1[:,0] - (pred1[:,2]/2)\n",
    "x2 = pred1[:,0] + (pred1[:,2]/2)\n",
    "y1 = pred1[:,1] - (pred1[:,3]/2)\n",
    "y2 = pred1[:,1] + (pred1[:,3]/2)"
   ]
  },
  {
   "cell_type": "code",
   "execution_count": 40,
   "metadata": {
    "_uuid": "08af72e727230d3ec883cadb6aa9722cb07bd560"
   },
   "outputs": [],
   "source": [
    "x1 = [ int(x) for x in x1 ]\n",
    "x2 = [ int(x) for x in x2 ]\n",
    "y1 = [ int(x) for x in y1 ]\n",
    "y2 = [ int(x) for x in y2 ]"
   ]
  },
  {
   "cell_type": "code",
   "execution_count": 41,
   "metadata": {
    "_uuid": "9ba774221acd1c1e43e03333c8dabbcfd29c8654"
   },
   "outputs": [],
   "source": [
    "for i in range(len(x2)):\n",
    "    if(x2[i] > 640):\n",
    "        x2[i] = 640"
   ]
  },
  {
   "cell_type": "code",
   "execution_count": 42,
   "metadata": {
    "_uuid": "c897c5d6ec356fee524973ecb8ccfbc724bf89c9"
   },
   "outputs": [],
   "source": [
    "for i in range(len(y2)):\n",
    "    if(y2[i] > 500):\n",
    "        y2[i] = 500"
   ]
  },
  {
   "cell_type": "code",
   "execution_count": 43,
   "metadata": {
    "_uuid": "70026e97975edcdcae41633853a460c2d1cf05ac"
   },
   "outputs": [],
   "source": [
    "test['x1'] = x1\n",
    "test['x2'] = x2\n",
    "test['y1'] = y1\n",
    "test['y2'] = y2"
   ]
  },
  {
   "cell_type": "code",
   "execution_count": 44,
   "metadata": {
    "_uuid": "2d22bad484275ac77360f212e3bbb0aa53654c0a"
   },
   "outputs": [],
   "source": [
    "test.to_csv('submission_flip.csv',index = False)"
   ]
  }
 ],
 "metadata": {
  "kernelspec": {
   "display_name": "Python 3",
   "language": "python",
   "name": "python3"
  },
  "language_info": {
   "codemirror_mode": {
    "name": "ipython",
    "version": 3
   },
   "file_extension": ".py",
   "mimetype": "text/x-python",
   "name": "python",
   "nbconvert_exporter": "python",
   "pygments_lexer": "ipython3",
   "version": "3.6.6"
  }
 },
 "nbformat": 4,
 "nbformat_minor": 1
}
